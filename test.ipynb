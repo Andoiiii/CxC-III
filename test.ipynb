{
 "cells": [
  {
   "cell_type": "markdown",
   "metadata": {},
   "source": [
    "# Hello World I am scard\n",
    "> the letter h \n"
   ]
  },
  {
   "cell_type": "code",
   "execution_count": 5,
   "metadata": {},
   "outputs": [
    {
     "name": "stderr",
     "output_type": "stream",
     "text": [
      "C:\\Users\\andyc\\AppData\\Local\\Temp\\ipykernel_131480\\2858158470.py:4: DtypeWarning: Columns (87) have mixed types. Specify dtype option on import or set low_memory=False.\n",
      "  dt = pd.read_csv('./history.csv')\n"
     ]
    },
    {
     "name": "stdout",
     "output_type": "stream",
     "text": [
      "uwu\n",
      "help\n",
      "hi\n",
      "weeeeeeeeeeeee\n",
      "yayy\n"
     ]
    }
   ],
   "source": [
    "import numpy as np\n",
    "import pandas as pd\n",
    "\n",
    "dt = pd.read_csv('./history.csv')\n",
    "\n",
    "print('uwu')\n",
    "print('help')\n",
    "print ('hi')\n",
    "print('weeeeeeeeeeeee')\n",
    "\n",
    "# I stole this code lmao\n",
    "# shhhhh\n",
    "# crying\n",
    "# i did python years ago but forgot :'(\n",
    "a = np.arange(6)\n",
    "a2 = a[np.newaxis, :]\n",
    "a2.shape\n",
    "\n",
    "# o\n",
    "print('yayy')\n"
   ]
  },
  {
   "cell_type": "code",
   "execution_count": 8,
   "metadata": {},
   "outputs": [
    {
     "data": {
      "text/plain": [
       "Index(['id', 'type_code', 'is_registered', 'country_code', 'currency_code',\n",
       "       'is_active', 'class_id', 'debit_code', 'last_trade_date',\n",
       "       'contract_type',\n",
       "       ...\n",
       "       'is_hrdc_resp', 'is_plan_grandfathered', 'resp_specimen_plan',\n",
       "       'inserted_at', 'updated_at', 'is_olob', 'retail_last_maintenance_time',\n",
       "       'retail_last_maintenance_user', 'visible_in_reports', 'label'],\n",
       "      dtype='object', length=106)"
      ]
     },
     "execution_count": 8,
     "metadata": {},
     "output_type": "execute_result"
    }
   ],
   "source": [
    "# dt.head(3)\n",
    "\n",
    "dt.columns"
   ]
  },
  {
   "cell_type": "markdown",
   "metadata": {},
   "source": []
  }
 ],
 "metadata": {
  "kernelspec": {
   "display_name": "Python 3",
   "language": "python",
   "name": "python3"
  },
  "language_info": {
   "codemirror_mode": {
    "name": "ipython",
    "version": 3
   },
   "file_extension": ".py",
   "mimetype": "text/x-python",
   "name": "python",
   "nbconvert_exporter": "python",
   "pygments_lexer": "ipython3",
   "version": "3.10.7"
  }
 },
 "nbformat": 4,
 "nbformat_minor": 2
}
